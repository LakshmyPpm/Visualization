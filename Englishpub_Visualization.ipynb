{
 "cells": [
  {
   "cell_type": "code",
   "execution_count": 1,
   "metadata": {},
   "outputs": [],
   "source": [
    "import google.datalab.bigquery as bq\n",
    "import pandas as pd\n",
    "import plotly as py\n",
    "from plotly.graph_objs import *\n",
    "\n",
    "mapbox_access_token = 'access_token'\n"
   ]
  },
  {
   "cell_type": "code",
   "execution_count": 5,
   "metadata": {},
   "outputs": [
    {
     "name": "stdout",
     "output_type": "stream",
     "text": [
      "    latitude  longitude                          name\n",
      "0  50.834534  -0.353145             Marquis Of Granby\n",
      "1  50.834601  -0.354080                Gardeners Arms\n",
      "2  50.837947  -0.321283             Miller and Carter\n",
      "3  50.839501  -0.335558            The Joyful Whippet\n",
      "4  50.826359  -0.322848                 Farmers Hotel\n",
      "5  50.822076  -0.324521  Ocean View Diving Club (Bar)\n",
      "6  50.822076  -0.324521          The New Sussex Hotel\n",
      "7  50.828926  -0.323694          Royal British Legion\n",
      "8  50.828853  -0.321793         The Stanley Ale House\n",
      "9  50.831338  -0.319503                     Harvester\n"
     ]
    }
   ],
   "source": [
    "map_details = bq.Query('select latitude,longitude,name from open_pubs.Pubs_Table LIMIT 100;')\n",
    "data = map_details.execute(output_options=bq.QueryOutput.dataframe()).result()\n",
    "print data.head(10)\n"
   ]
  },
  {
   "cell_type": "code",
   "execution_count": 6,
   "metadata": {},
   "outputs": [
    {
     "data": {
      "text/plain": [
       "u'https://plot.ly/~lakshmy/4'"
      ]
     },
     "execution_count": 6,
     "metadata": {},
     "output_type": "execute_result"
    }
   ],
   "source": [
    "import plotly.plotly as py\n",
    "py.sign_in(user_name, password)\n",
    "from plotly.graph_objs import *\n",
    "\n",
    "longitude=data[\"longitude\"].tolist()\n",
    "latitude=data[\"latitude\"].tolist()\n",
    "text=data[\"name\"].tolist()\n",
    "\n",
    "\n",
    "data = Data([\n",
    "    Scattermapbox(\n",
    "        lat=data[\"latitude\"],\n",
    "        lon=data[\"longitude\"],\n",
    "        mode='markers',\n",
    "        marker=Marker(\n",
    "            size=4\n",
    "        ),\n",
    "        text=data[\"name\"],\n",
    "    )\n",
    "])\n",
    "layout = Layout(\n",
    "    autosize=True,\n",
    "    hovermode='closest',\n",
    "    mapbox=dict(\n",
    "        accesstoken=mapbox_access_token,\n",
    "        bearing=0,\n",
    "        center=dict(\n",
    "            lat=50.83,\n",
    "            lon=-0.32451\n",
    "        ),\n",
    "        pitch=0,\n",
    "        zoom=10\n",
    "    ),\n",
    ")\n",
    "\n",
    "fig = dict(data=data, layout=layout)\n",
    "py.plot(fig, filename='English Pub')\n",
    "\n"
   ]
  },
  {
   "cell_type": "code",
   "execution_count": null,
   "metadata": {
    "collapsed": true
   },
   "outputs": [],
   "source": []
  }
 ],
 "metadata": {
  "kernelspec": {
   "display_name": "Python 3",
   "language": "python",
   "name": "python3"
  },
  "language_info": {
   "codemirror_mode": {
    "name": "ipython",
    "version": 3
   },
   "file_extension": ".py",
   "mimetype": "text/x-python",
   "name": "python",
   "nbconvert_exporter": "python",
   "pygments_lexer": "ipython3",
   "version": "3.6.2"
  }
 },
 "nbformat": 4,
 "nbformat_minor": 2
}
